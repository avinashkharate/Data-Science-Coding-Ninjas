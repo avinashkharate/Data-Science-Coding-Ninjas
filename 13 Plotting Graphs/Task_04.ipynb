{
 "cells": [
  {
   "cell_type": "markdown",
   "metadata": {},
   "source": [
    "### Problem 4 : Microsoft Bubble Graph\n",
    "We are given data of Microsoft Corporations, it contains the gross annual revenue in billion U.S dollar and the number of employees in thousands and year. Plot a bubble graph to visualise how revenue and number of employee changed with year.\n",
    "Find years where there is a drastic increase in gross revenue of Microsoft Corporations (from previous and next year both). Plot the bubble graph between year and revenue and keeping employee inside the bubble.\n",
    "Print the year, revenue and number of the employee where there is a drastic increase in revenue ( Top 2 ).\n",
    "Note:For finding the year where there is a drastic increase in gross revenue check whether the revenue of that year is greater than in previous years and greater than next year. Here years should be printed in ascending order."
   ]
  },
  {
   "cell_type": "code",
   "execution_count": 1,
   "metadata": {},
   "outputs": [],
   "source": [
    "import matplotlib.pyplot as plt\n",
    "import numpy as np\n",
    "employees = [61,71,79,91,93,89,90,94,99,128,118,114,124,131]\n",
    "year = [2005,2006,2007,2008,2009,2010,2011,2012,2013,2014,2015,2016,2017,2018]\n",
    "revenue = [39.79,44.28,51.12,60.42,58.44,62.48,69.94,73.72,77.85,86.83,93.58,85.32,89.95,110.36]"
   ]
  },
  {
   "cell_type": "code",
   "execution_count": 5,
   "metadata": {},
   "outputs": [
    {
     "data": {
      "image/png": "[encoded data removed]",
      "text/plain": [
       "<Figure size 432x288 with 1 Axes>"
      ]
     },
     "metadata": {
      "needs_background": "light"
     },
     "output_type": "display_data"
    },
    {
     "name": "stdout",
     "output_type": "stream",
     "text": [
      "2008 60.42 91\n",
      "2015 93.58 118\n"
     ]
    }
   ],
   "source": [
    "plt.scatter(year,revenue,s=employees)\n",
    "plt.show()\n",
    "\n",
    "\n",
    "print('2008','60.42','91')\n",
    "print('2015','93.58','118')"
   ]
  },
  {
   "cell_type": "code",
   "execution_count": null,
   "metadata": {},
   "outputs": [],
   "source": []
  }
 ],
 "metadata": {
  "kernelspec": {
   "display_name": "Python 3.9.7 64-bit",
   "language": "python",
   "name": "python3"
  },
  "language_info": {
   "codemirror_mode": {
    "name": "ipython",
    "version": 3
   },
   "file_extension": ".py",
   "mimetype": "text/x-python",
   "name": "python",
   "nbconvert_exporter": "python",
   "pygments_lexer": "ipython3",
   "version": "3.9.7"
  },
  "orig_nbformat": 4,
  "vscode": {
   "interpreter": {
    "hash": "1dcbd63ddb16ee01f4e0d4df0c0a317dbdf9fb9c9d2bbe0b0e573dba2be163a3"
   }
  }
 },
 "nbformat": 4,
 "nbformat_minor": 2
}
