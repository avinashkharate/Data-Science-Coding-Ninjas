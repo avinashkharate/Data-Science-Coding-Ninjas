{
 "cells": [
  {
   "cell_type": "markdown",
   "metadata": {},
   "source": [
    "### Problem 2 : Matplotlib increase\n",
    "Create two arrays, x and y.\n",
    "x should hold first 20 even points starting from 0 and y should be an exponentiation array where y[i] = 2^x[i].\n",
    "Plot a line graph, line should be of color blue and it should be a dashed line (like -----).\n",
    "Find the value of x from where there is slight increase in value of y as shown in your plot.\n",
    "Plot and print the value of x.\n",
    "Note: Here x must be multiple of 5."
   ]
  },
  {
   "cell_type": "code",
   "execution_count": 5,
   "metadata": {},
   "outputs": [
    {
     "data": {
      "image/png": "[encoded data removed]",
      "text/plain": [
       "<Figure size 432x288 with 1 Axes>"
      ]
     },
     "metadata": {
      "needs_background": "light"
     },
     "output_type": "display_data"
    },
    {
     "name": "stdout",
     "output_type": "stream",
     "text": [
      "30\n"
     ]
    }
   ],
   "source": [
    "import matplotlib.pyplot as plt\n",
    "import numpy as np\n",
    "%matplotlib inline\n",
    "x = np.arange(0,40,2)\n",
    "y = 2**x\n",
    "\n",
    "plt.plot(x,y,'b--')\n",
    "plt.show()\n",
    "print(30)"
   ]
  },
  {
   "cell_type": "code",
   "execution_count": null,
   "metadata": {},
   "outputs": [],
   "source": []
  }
 ],
 "metadata": {
  "kernelspec": {
   "display_name": "Python 3.9.7 64-bit",
   "language": "python",
   "name": "python3"
  },
  "language_info": {
   "codemirror_mode": {
    "name": "ipython",
    "version": 3
   },
   "file_extension": ".py",
   "mimetype": "text/x-python",
   "name": "python",
   "nbconvert_exporter": "python",
   "pygments_lexer": "ipython3",
   "version": "3.9.7"
  },
  "orig_nbformat": 4,
  "vscode": {
   "interpreter": {
    "hash": "1dcbd63ddb16ee01f4e0d4df0c0a317dbdf9fb9c9d2bbe0b0e573dba2be163a3"
   }
  }
 },
 "nbformat": 4,
 "nbformat_minor": 2
}
