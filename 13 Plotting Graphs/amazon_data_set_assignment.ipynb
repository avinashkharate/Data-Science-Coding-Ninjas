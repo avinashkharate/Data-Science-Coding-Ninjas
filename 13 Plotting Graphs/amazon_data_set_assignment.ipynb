{
 "cells": [
  {
   "cell_type": "markdown",
   "metadata": {},
   "source": [
    "### Problem 1 : Plot Job_Year\n",
    "Problem Statement :\n",
    "Plot the line graph between no. of Job postings with respect to year.\n",
    "Print the year and the number of job posting as integer value.\n",
    "Note: Year should be in ascending order."
   ]
  },
  {
   "cell_type": "code",
   "execution_count": 41,
   "metadata": {},
   "outputs": [],
   "source": [
    "import pandas as pd \n",
    "import numpy as np\n",
    "import matplotlib.pyplot as plt"
   ]
  },
  {
   "cell_type": "code",
   "execution_count": 42,
   "metadata": {},
   "outputs": [
    {
     "data": {
      "text/html": [
       "<div>\n",
       "<style scoped>\n",
       "    .dataframe tbody tr th:only-of-type {\n",
       "        vertical-align: middle;\n",
       "    }\n",
       "\n",
       "    .dataframe tbody tr th {\n",
       "        vertical-align: top;\n",
       "    }\n",
       "\n",
       "    .dataframe thead th {\n",
       "        text-align: right;\n",
       "    }\n",
       "</style>\n",
       "<table border=\"1\" class=\"dataframe\">\n",
       "  <thead>\n",
       "    <tr style=\"text-align: right;\">\n",
       "      <th></th>\n",
       "      <th>Unnamed: 0</th>\n",
       "      <th>Title</th>\n",
       "      <th>location</th>\n",
       "      <th>Posting_date</th>\n",
       "      <th>DESCRIPTION</th>\n",
       "      <th>BASIC QUALIFICATIONS</th>\n",
       "      <th>PREFERRED QUALIFICATIONS</th>\n",
       "    </tr>\n",
       "  </thead>\n",
       "  <tbody>\n",
       "    <tr>\n",
       "      <th>0</th>\n",
       "      <td>0</td>\n",
       "      <td>Software Development Manager</td>\n",
       "      <td>US, WA, Seattle</td>\n",
       "      <td>March  1, 2018</td>\n",
       "      <td>You are an experienced hands-on manager with a...</td>\n",
       "      <td>· Proven track record of hiring and managing h...</td>\n",
       "      <td>· Experience building extremely high volume an...</td>\n",
       "    </tr>\n",
       "    <tr>\n",
       "      <th>1</th>\n",
       "      <td>1</td>\n",
       "      <td>Software Development Engineer</td>\n",
       "      <td>IN, KA, Bangalore</td>\n",
       "      <td>March  1, 2018</td>\n",
       "      <td>Amazon is driven by being “the world’s most cu...</td>\n",
       "      <td>· Bachelor’s Degree in Computer Science or rel...</td>\n",
       "      <td>· Experience building complex software systems...</td>\n",
       "    </tr>\n",
       "    <tr>\n",
       "      <th>2</th>\n",
       "      <td>2</td>\n",
       "      <td>Software Development Engineer</td>\n",
       "      <td>IN, KA, Bangalore</td>\n",
       "      <td>March  1, 2018</td>\n",
       "      <td>Amazon is driven by being “the world’s most cu...</td>\n",
       "      <td>· Bachelor’s Degree in Computer Science or rel...</td>\n",
       "      <td>· Experience building complex software systems...</td>\n",
       "    </tr>\n",
       "    <tr>\n",
       "      <th>3</th>\n",
       "      <td>3</td>\n",
       "      <td>Software Development Engineer - Amazon Lex</td>\n",
       "      <td>US, WA, Seattle</td>\n",
       "      <td>March  1, 2018</td>\n",
       "      <td>Have you ever wondered what it takes to build ...</td>\n",
       "      <td>· Bachelors Degree in Computer Science or a re...</td>\n",
       "      <td>· Masters or PhD in Computer Science· Experien...</td>\n",
       "    </tr>\n",
       "    <tr>\n",
       "      <th>4</th>\n",
       "      <td>4</td>\n",
       "      <td>Software Development Engineer - Amazon Lex</td>\n",
       "      <td>US, WA, Seattle</td>\n",
       "      <td>March  1, 2018</td>\n",
       "      <td>Have you ever wondered what it takes to build ...</td>\n",
       "      <td>· Bachelors Degree in Computer Science or a re...</td>\n",
       "      <td>· Masters or PhD in Computer Science· Experien...</td>\n",
       "    </tr>\n",
       "  </tbody>\n",
       "</table>\n",
       "</div>"
      ],
      "text/plain": [
       "   Unnamed: 0                                       Title            location  \\\n",
       "0           0                Software Development Manager    US, WA, Seattle    \n",
       "1           1               Software Development Engineer  IN, KA, Bangalore    \n",
       "2           2               Software Development Engineer  IN, KA, Bangalore    \n",
       "3           3  Software Development Engineer - Amazon Lex    US, WA, Seattle    \n",
       "4           4  Software Development Engineer - Amazon Lex    US, WA, Seattle    \n",
       "\n",
       "     Posting_date                                        DESCRIPTION  \\\n",
       "0  March  1, 2018  You are an experienced hands-on manager with a...   \n",
       "1  March  1, 2018  Amazon is driven by being “the world’s most cu...   \n",
       "2  March  1, 2018  Amazon is driven by being “the world’s most cu...   \n",
       "3  March  1, 2018  Have you ever wondered what it takes to build ...   \n",
       "4  March  1, 2018  Have you ever wondered what it takes to build ...   \n",
       "\n",
       "                                BASIC QUALIFICATIONS  \\\n",
       "0  · Proven track record of hiring and managing h...   \n",
       "1  · Bachelor’s Degree in Computer Science or rel...   \n",
       "2  · Bachelor’s Degree in Computer Science or rel...   \n",
       "3  · Bachelors Degree in Computer Science or a re...   \n",
       "4  · Bachelors Degree in Computer Science or a re...   \n",
       "\n",
       "                            PREFERRED QUALIFICATIONS  \n",
       "0  · Experience building extremely high volume an...  \n",
       "1  · Experience building complex software systems...  \n",
       "2  · Experience building complex software systems...  \n",
       "3  · Masters or PhD in Computer Science· Experien...  \n",
       "4  · Masters or PhD in Computer Science· Experien...  "
      ]
     },
     "execution_count": 42,
     "metadata": {},
     "output_type": "execute_result"
    }
   ],
   "source": [
    "df = pd.read_csv(\"amazon_jobs_dataset.csv\")\n",
    "df.head(5)"
   ]
  },
  {
   "cell_type": "code",
   "execution_count": 43,
   "metadata": {},
   "outputs": [],
   "source": [
    "d = {}\n",
    "for i in df['Posting_date']:\n",
    "    yr = i[-4:]\n",
    "    if yr in d:\n",
    "        d[yr]+=1\n",
    "    else:\n",
    "        d[yr]=1\n"
   ]
  },
  {
   "cell_type": "code",
   "execution_count": 44,
   "metadata": {},
   "outputs": [
    {
     "data": {
      "text/plain": [
       "{'2018': 1710,\n",
       " '2017': 1614,\n",
       " '2016': 123,\n",
       " '2015': 29,\n",
       " '2014': 5,\n",
       " '2013': 3,\n",
       " '2012': 7,\n",
       " '2011': 2}"
      ]
     },
     "execution_count": 44,
     "metadata": {},
     "output_type": "execute_result"
    }
   ],
   "source": [
    "d"
   ]
  },
  {
   "cell_type": "code",
   "execution_count": 45,
   "metadata": {},
   "outputs": [
    {
     "name": "stdout",
     "output_type": "stream",
     "text": [
      "['2011', '2012', '2013', '2014', '2015', '2016', '2017', '2018']\n",
      "[2, 7, 3, 5, 29, 123, 1614, 1710]\n"
     ]
    }
   ],
   "source": [
    "year=[]\n",
    "jobs=[]\n",
    "for key,val in d.items():\n",
    "    year.append(key)\n",
    "    jobs.append(val)\n",
    "year.reverse()\n",
    "jobs.reverse()\n",
    "print(year)\n",
    "print(jobs)"
   ]
  },
  {
   "cell_type": "code",
   "execution_count": 46,
   "metadata": {},
   "outputs": [
    {
     "data": {
      "image/png": "[encoded data removed]",
      "text/plain": [
       "<Figure size 432x288 with 1 Axes>"
      ]
     },
     "metadata": {
      "needs_background": "light"
     },
     "output_type": "display_data"
    }
   ],
   "source": [
    "plt.plot(year,jobs)\n",
    "plt.show()"
   ]
  },
  {
   "cell_type": "code",
   "execution_count": null,
   "metadata": {},
   "outputs": [],
   "source": []
  },
  {
   "cell_type": "markdown",
   "metadata": {},
   "source": [
    "### Problem 2 : Plot Month_Job\n",
    "Problem Statement :\n",
    "Plot the Bar graph between Month vs Job Openings.\n",
    "Print the year and the number of job posting as integer value.\n",
    "Order of months doesn't matter"
   ]
  },
  {
   "cell_type": "code",
   "execution_count": 47,
   "metadata": {},
   "outputs": [
    {
     "data": {
      "text/html": [
       "<div>\n",
       "<style scoped>\n",
       "    .dataframe tbody tr th:only-of-type {\n",
       "        vertical-align: middle;\n",
       "    }\n",
       "\n",
       "    .dataframe tbody tr th {\n",
       "        vertical-align: top;\n",
       "    }\n",
       "\n",
       "    .dataframe thead th {\n",
       "        text-align: right;\n",
       "    }\n",
       "</style>\n",
       "<table border=\"1\" class=\"dataframe\">\n",
       "  <thead>\n",
       "    <tr style=\"text-align: right;\">\n",
       "      <th></th>\n",
       "      <th>Unnamed: 0</th>\n",
       "      <th>Title</th>\n",
       "      <th>location</th>\n",
       "      <th>Posting_date</th>\n",
       "      <th>DESCRIPTION</th>\n",
       "      <th>BASIC QUALIFICATIONS</th>\n",
       "      <th>PREFERRED QUALIFICATIONS</th>\n",
       "    </tr>\n",
       "  </thead>\n",
       "  <tbody>\n",
       "    <tr>\n",
       "      <th>0</th>\n",
       "      <td>0</td>\n",
       "      <td>Software Development Manager</td>\n",
       "      <td>US, WA, Seattle</td>\n",
       "      <td>March  1, 2018</td>\n",
       "      <td>You are an experienced hands-on manager with a...</td>\n",
       "      <td>· Proven track record of hiring and managing h...</td>\n",
       "      <td>· Experience building extremely high volume an...</td>\n",
       "    </tr>\n",
       "    <tr>\n",
       "      <th>1</th>\n",
       "      <td>1</td>\n",
       "      <td>Software Development Engineer</td>\n",
       "      <td>IN, KA, Bangalore</td>\n",
       "      <td>March  1, 2018</td>\n",
       "      <td>Amazon is driven by being “the world’s most cu...</td>\n",
       "      <td>· Bachelor’s Degree in Computer Science or rel...</td>\n",
       "      <td>· Experience building complex software systems...</td>\n",
       "    </tr>\n",
       "    <tr>\n",
       "      <th>2</th>\n",
       "      <td>2</td>\n",
       "      <td>Software Development Engineer</td>\n",
       "      <td>IN, KA, Bangalore</td>\n",
       "      <td>March  1, 2018</td>\n",
       "      <td>Amazon is driven by being “the world’s most cu...</td>\n",
       "      <td>· Bachelor’s Degree in Computer Science or rel...</td>\n",
       "      <td>· Experience building complex software systems...</td>\n",
       "    </tr>\n",
       "    <tr>\n",
       "      <th>3</th>\n",
       "      <td>3</td>\n",
       "      <td>Software Development Engineer - Amazon Lex</td>\n",
       "      <td>US, WA, Seattle</td>\n",
       "      <td>March  1, 2018</td>\n",
       "      <td>Have you ever wondered what it takes to build ...</td>\n",
       "      <td>· Bachelors Degree in Computer Science or a re...</td>\n",
       "      <td>· Masters or PhD in Computer Science· Experien...</td>\n",
       "    </tr>\n",
       "    <tr>\n",
       "      <th>4</th>\n",
       "      <td>4</td>\n",
       "      <td>Software Development Engineer - Amazon Lex</td>\n",
       "      <td>US, WA, Seattle</td>\n",
       "      <td>March  1, 2018</td>\n",
       "      <td>Have you ever wondered what it takes to build ...</td>\n",
       "      <td>· Bachelors Degree in Computer Science or a re...</td>\n",
       "      <td>· Masters or PhD in Computer Science· Experien...</td>\n",
       "    </tr>\n",
       "  </tbody>\n",
       "</table>\n",
       "</div>"
      ],
      "text/plain": [
       "   Unnamed: 0                                       Title            location  \\\n",
       "0           0                Software Development Manager    US, WA, Seattle    \n",
       "1           1               Software Development Engineer  IN, KA, Bangalore    \n",
       "2           2               Software Development Engineer  IN, KA, Bangalore    \n",
       "3           3  Software Development Engineer - Amazon Lex    US, WA, Seattle    \n",
       "4           4  Software Development Engineer - Amazon Lex    US, WA, Seattle    \n",
       "\n",
       "     Posting_date                                        DESCRIPTION  \\\n",
       "0  March  1, 2018  You are an experienced hands-on manager with a...   \n",
       "1  March  1, 2018  Amazon is driven by being “the world’s most cu...   \n",
       "2  March  1, 2018  Amazon is driven by being “the world’s most cu...   \n",
       "3  March  1, 2018  Have you ever wondered what it takes to build ...   \n",
       "4  March  1, 2018  Have you ever wondered what it takes to build ...   \n",
       "\n",
       "                                BASIC QUALIFICATIONS  \\\n",
       "0  · Proven track record of hiring and managing h...   \n",
       "1  · Bachelor’s Degree in Computer Science or rel...   \n",
       "2  · Bachelor’s Degree in Computer Science or rel...   \n",
       "3  · Bachelors Degree in Computer Science or a re...   \n",
       "4  · Bachelors Degree in Computer Science or a re...   \n",
       "\n",
       "                            PREFERRED QUALIFICATIONS  \n",
       "0  · Experience building extremely high volume an...  \n",
       "1  · Experience building complex software systems...  \n",
       "2  · Experience building complex software systems...  \n",
       "3  · Masters or PhD in Computer Science· Experien...  \n",
       "4  · Masters or PhD in Computer Science· Experien...  "
      ]
     },
     "execution_count": 47,
     "metadata": {},
     "output_type": "execute_result"
    }
   ],
   "source": [
    "df = pd.read_csv(\"amazon_jobs_dataset.csv\")\n",
    "df.head(5)"
   ]
  },
  {
   "cell_type": "code",
   "execution_count": 48,
   "metadata": {},
   "outputs": [],
   "source": [
    "d = {}\n",
    "for i in df['Posting_date']:\n",
    "    date = i.split()\n",
    "    month = date[0]\n",
    "    if month in d:\n",
    "        d[month]+=1\n",
    "    else:\n",
    "        d[month]=1\n",
    "    "
   ]
  },
  {
   "cell_type": "code",
   "execution_count": 49,
   "metadata": {},
   "outputs": [
    {
     "data": {
      "text/plain": [
       "{'March': 78,\n",
       " 'February': 869,\n",
       " 'January': 961,\n",
       " 'December': 393,\n",
       " 'November': 271,\n",
       " 'October': 243,\n",
       " 'September': 165,\n",
       " 'August': 153,\n",
       " 'July': 95,\n",
       " 'June': 99,\n",
       " 'May': 108,\n",
       " 'April': 58}"
      ]
     },
     "execution_count": 49,
     "metadata": {},
     "output_type": "execute_result"
    }
   ],
   "source": [
    "d"
   ]
  },
  {
   "cell_type": "code",
   "execution_count": 50,
   "metadata": {},
   "outputs": [
    {
     "name": "stdout",
     "output_type": "stream",
     "text": [
      "['March', 'February', 'January', 'December', 'November', 'October', 'September', 'August', 'July', 'June', 'May', 'April']\n",
      "[78, 869, 961, 393, 271, 243, 165, 153, 95, 99, 108, 58]\n"
     ]
    }
   ],
   "source": [
    "months=[]\n",
    "jobs=[]\n",
    "for month,job in d.items():\n",
    "    months.append(month)\n",
    "    jobs.append(job)\n",
    "print(months)\n",
    "print(jobs)"
   ]
  },
  {
   "cell_type": "code",
   "execution_count": 51,
   "metadata": {},
   "outputs": [
    {
     "data": {
      "image/png": "[encoded data removed]",
      "text/plain": [
       "<Figure size 432x288 with 1 Axes>"
      ]
     },
     "metadata": {
      "needs_background": "light"
     },
     "output_type": "display_data"
    },
    {
     "name": "stdout",
     "output_type": "stream",
     "text": [
      "March 78\n",
      "February 869\n",
      "January 961\n",
      "December 393\n",
      "November 271\n",
      "October 243\n",
      "September 165\n",
      "August 153\n",
      "July 95\n",
      "June 99\n",
      "May 108\n",
      "April 58\n"
     ]
    }
   ],
   "source": [
    "plt.bar(months,jobs)\n",
    "plt.xticks(rotation=90)\n",
    "plt.show()\n",
    "\n",
    "for month,job in d.items():\n",
    "    print(month, job)"
   ]
  },
  {
   "cell_type": "code",
   "execution_count": null,
   "metadata": {},
   "outputs": [],
   "source": []
  },
  {
   "cell_type": "markdown",
   "metadata": {},
   "source": [
    "### Problem 3 : Plot city_job\n",
    "Plot the Pie chart between Indian cities vs No. of jobs opening.\n",
    "Print the Indian cities and %age of Job distribution in India upto 2 decimal places.\n",
    "Note: %age of Job distribution should be in descending order."
   ]
  },
  {
   "cell_type": "code",
   "execution_count": 52,
   "metadata": {},
   "outputs": [
    {
     "data": {
      "text/html": [
       "<div>\n",
       "<style scoped>\n",
       "    .dataframe tbody tr th:only-of-type {\n",
       "        vertical-align: middle;\n",
       "    }\n",
       "\n",
       "    .dataframe tbody tr th {\n",
       "        vertical-align: top;\n",
       "    }\n",
       "\n",
       "    .dataframe thead th {\n",
       "        text-align: right;\n",
       "    }\n",
       "</style>\n",
       "<table border=\"1\" class=\"dataframe\">\n",
       "  <thead>\n",
       "    <tr style=\"text-align: right;\">\n",
       "      <th></th>\n",
       "      <th>Unnamed: 0</th>\n",
       "      <th>Title</th>\n",
       "      <th>location</th>\n",
       "      <th>Posting_date</th>\n",
       "      <th>DESCRIPTION</th>\n",
       "      <th>BASIC QUALIFICATIONS</th>\n",
       "      <th>PREFERRED QUALIFICATIONS</th>\n",
       "    </tr>\n",
       "  </thead>\n",
       "  <tbody>\n",
       "    <tr>\n",
       "      <th>0</th>\n",
       "      <td>0</td>\n",
       "      <td>Software Development Manager</td>\n",
       "      <td>US, WA, Seattle</td>\n",
       "      <td>March  1, 2018</td>\n",
       "      <td>You are an experienced hands-on manager with a...</td>\n",
       "      <td>· Proven track record of hiring and managing h...</td>\n",
       "      <td>· Experience building extremely high volume an...</td>\n",
       "    </tr>\n",
       "    <tr>\n",
       "      <th>1</th>\n",
       "      <td>1</td>\n",
       "      <td>Software Development Engineer</td>\n",
       "      <td>IN, KA, Bangalore</td>\n",
       "      <td>March  1, 2018</td>\n",
       "      <td>Amazon is driven by being “the world’s most cu...</td>\n",
       "      <td>· Bachelor’s Degree in Computer Science or rel...</td>\n",
       "      <td>· Experience building complex software systems...</td>\n",
       "    </tr>\n",
       "    <tr>\n",
       "      <th>2</th>\n",
       "      <td>2</td>\n",
       "      <td>Software Development Engineer</td>\n",
       "      <td>IN, KA, Bangalore</td>\n",
       "      <td>March  1, 2018</td>\n",
       "      <td>Amazon is driven by being “the world’s most cu...</td>\n",
       "      <td>· Bachelor’s Degree in Computer Science or rel...</td>\n",
       "      <td>· Experience building complex software systems...</td>\n",
       "    </tr>\n",
       "    <tr>\n",
       "      <th>3</th>\n",
       "      <td>3</td>\n",
       "      <td>Software Development Engineer - Amazon Lex</td>\n",
       "      <td>US, WA, Seattle</td>\n",
       "      <td>March  1, 2018</td>\n",
       "      <td>Have you ever wondered what it takes to build ...</td>\n",
       "      <td>· Bachelors Degree in Computer Science or a re...</td>\n",
       "      <td>· Masters or PhD in Computer Science· Experien...</td>\n",
       "    </tr>\n",
       "    <tr>\n",
       "      <th>4</th>\n",
       "      <td>4</td>\n",
       "      <td>Software Development Engineer - Amazon Lex</td>\n",
       "      <td>US, WA, Seattle</td>\n",
       "      <td>March  1, 2018</td>\n",
       "      <td>Have you ever wondered what it takes to build ...</td>\n",
       "      <td>· Bachelors Degree in Computer Science or a re...</td>\n",
       "      <td>· Masters or PhD in Computer Science· Experien...</td>\n",
       "    </tr>\n",
       "  </tbody>\n",
       "</table>\n",
       "</div>"
      ],
      "text/plain": [
       "   Unnamed: 0                                       Title            location  \\\n",
       "0           0                Software Development Manager    US, WA, Seattle    \n",
       "1           1               Software Development Engineer  IN, KA, Bangalore    \n",
       "2           2               Software Development Engineer  IN, KA, Bangalore    \n",
       "3           3  Software Development Engineer - Amazon Lex    US, WA, Seattle    \n",
       "4           4  Software Development Engineer - Amazon Lex    US, WA, Seattle    \n",
       "\n",
       "     Posting_date                                        DESCRIPTION  \\\n",
       "0  March  1, 2018  You are an experienced hands-on manager with a...   \n",
       "1  March  1, 2018  Amazon is driven by being “the world’s most cu...   \n",
       "2  March  1, 2018  Amazon is driven by being “the world’s most cu...   \n",
       "3  March  1, 2018  Have you ever wondered what it takes to build ...   \n",
       "4  March  1, 2018  Have you ever wondered what it takes to build ...   \n",
       "\n",
       "                                BASIC QUALIFICATIONS  \\\n",
       "0  · Proven track record of hiring and managing h...   \n",
       "1  · Bachelor’s Degree in Computer Science or rel...   \n",
       "2  · Bachelor’s Degree in Computer Science or rel...   \n",
       "3  · Bachelors Degree in Computer Science or a re...   \n",
       "4  · Bachelors Degree in Computer Science or a re...   \n",
       "\n",
       "                            PREFERRED QUALIFICATIONS  \n",
       "0  · Experience building extremely high volume an...  \n",
       "1  · Experience building complex software systems...  \n",
       "2  · Experience building complex software systems...  \n",
       "3  · Masters or PhD in Computer Science· Experien...  \n",
       "4  · Masters or PhD in Computer Science· Experien...  "
      ]
     },
     "execution_count": 52,
     "metadata": {},
     "output_type": "execute_result"
    }
   ],
   "source": [
    "df.head()"
   ]
  },
  {
   "cell_type": "code",
   "execution_count": 53,
   "metadata": {},
   "outputs": [
    {
     "data": {
      "image/png": "[encoded data removed]",
      "text/plain": [
       "<Figure size 432x288 with 1 Axes>"
      ]
     },
     "metadata": {},
     "output_type": "display_data"
    },
    {
     "name": "stdout",
     "output_type": "stream",
     "text": [
      " Bangalore  46.81\n",
      " Hyderabad  25.53\n",
      " Chennai  23.40\n",
      " Gurgaon  3.55\n",
      " Pune  0.71\n"
     ]
    }
   ],
   "source": [
    "d={}\n",
    "for i in df['location']:\n",
    "    data = i.split(',')\n",
    "    country = data[0]\n",
    "    if(len(data)==3):\n",
    "        city=data[2]\n",
    "    if(country== 'IN'):\n",
    "        if(city in d):\n",
    "            d[city]+=1\n",
    "        else:\n",
    "            d[city]=1\n",
    "            \n",
    "city=[]\n",
    "jobs=[]\n",
    "for c,j in d.items():\n",
    "    city.append(c)\n",
    "    jobs.append(j)\n",
    "\n",
    "plt.pie(jobs,labels=city,autopct='%0.2f')\n",
    "plt.show()\n",
    "\n",
    "s= sum(jobs)\n",
    "for c,j in d.items():\n",
    "    print(c,\"%.2f\" % ((j/s)*100))\n",
    "   "
   ]
  },
  {
   "cell_type": "markdown",
   "metadata": {},
   "source": [
    "### Problem 4 : Plot Job_Java\n",
    "Problem Statement :\n",
    "Plot the scatter graph between year vs No. of jobs opening related to Java.\n",
    "Print the year and number of Jobs opening in Java Profile.\n",
    "Note: Use the Keyword 'Java' or 'java' in Basic Qualification feature for finding the job opening related to Java Profile. Print the year in ascending order."
   ]
  },
  {
   "cell_type": "code",
   "execution_count": 67,
   "metadata": {},
   "outputs": [
    {
     "name": "stdout",
     "output_type": "stream",
     "text": [
      "['2018', '2017', '2016', '2015', '2014', '2012']\n",
      "[385, 381, 26, 3, 1, 1]\n"
     ]
    }
   ],
   "source": [
    "d = {}\n",
    "for i in range(len(df[\"Posting_date\"])):\n",
    "    date = (df[\"Posting_date\"][i]).split()\n",
    "    year = df[\"Posting_date\"][i][-4:]\n",
    "\n",
    "    qlf = str(df['PREFERRED QUALIFICATIONS'][i])\n",
    "    if ('Java' in qlf or 'java' in qlf):\n",
    "        if year in d:\n",
    "            d[year]+=1\n",
    "        else:\n",
    "            d[year]=1\n",
    "    \n",
    "year=[]\n",
    "jobs=[]\n",
    "for c,j in d.items():\n",
    "    year.append(c)\n",
    "    jobs.append(j)\n",
    "\n",
    "print(year)\n",
    "print(jobs)\n",
    "\n"
   ]
  },
  {
   "cell_type": "code",
   "execution_count": 69,
   "metadata": {},
   "outputs": [
    {
     "data": {
      "image/png": "[encoded data removed]",
      "text/plain": [
       "<Figure size 432x288 with 1 Axes>"
      ]
     },
     "metadata": {
      "needs_background": "light"
     },
     "output_type": "display_data"
    }
   ],
   "source": [
    "plt.scatter(year,jobs)\n",
    "plt.xlabel(\"Year\")\n",
    "plt.ylabel(\"Jobs\")\n",
    "plt.title('year vs No. of jobs opening related to Java')\n",
    "plt.show()"
   ]
  },
  {
   "cell_type": "code",
   "execution_count": null,
   "metadata": {},
   "outputs": [],
   "source": []
  }
 ],
 "metadata": {
  "kernelspec": {
   "display_name": "Python 3.9.7 64-bit",
   "language": "python",
   "name": "python3"
  },
  "language_info": {
   "codemirror_mode": {
    "name": "ipython",
    "version": 3
   },
   "file_extension": ".py",
   "mimetype": "text/x-python",
   "name": "python",
   "nbconvert_exporter": "python",
   "pygments_lexer": "ipython3",
   "version": "3.9.7"
  },
  "orig_nbformat": 4,
  "vscode": {
   "interpreter": {
    "hash": "1dcbd63ddb16ee01f4e0d4df0c0a317dbdf9fb9c9d2bbe0b0e573dba2be163a3"
   }
  }
 },
 "nbformat": 4,
 "nbformat_minor": 2
}
