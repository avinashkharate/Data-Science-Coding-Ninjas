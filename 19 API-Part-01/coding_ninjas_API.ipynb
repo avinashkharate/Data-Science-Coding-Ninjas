{
 "cells": [
  {
   "cell_type": "code",
   "execution_count": 18,
   "metadata": {},
   "outputs": [],
   "source": []
  },
  {
   "cell_type": "markdown",
   "metadata": {},
   "source": [
    "### CN Online Courses\n",
    "Print name of all online courses offered by Coding Ninjas. You can fetch the data using their open API :<br>\n",
    "https://api.codingninjas.com/api/v3/courses ."
   ]
  },
  {
   "cell_type": "code",
   "execution_count": 24,
   "metadata": {},
   "outputs": [
    {
     "name": "stdout",
     "output_type": "stream",
     "text": [
      "System Design Course\n",
      "Premium Full Stack Web Development\n",
      "Premium Competitive Programming Course\n",
      "Machine Learning & Deep Learning Course\n",
      "C++ Foundation with Data Structures\n",
      "Premium Data Science Course\n",
      "Premium Data structures and Algorithms [C++/Java/Python]\n",
      "Premium Android App Development\n",
      "Advanced  Front-End Web Development with React\n",
      "Premium Machine Learning Course\n",
      "Ninja Competitive Programmer Track\n",
      "JAVA Foundation with Data Structures\n",
      "Full Stack Web Development\n",
      "Ninja Android Developer Career Track \n",
      "Interview Preparation Course\n",
      "Grokking the Operating Systems Interview\n",
      "Data Science & Machine Learning Complete\n",
      "Ninja  Web Developer Career Track - NodeJS & ReactJs\n",
      "Ninja  Web Developer Career Track - NodeJS\n",
      "Competitive Programming Course\n",
      "Python Foundation with Data Structures\n",
      "Android Development with Kotlin\n",
      "Ninja Data Scientist Career Track\n",
      "Ninja Machine Learning Engineer Career Track\n",
      "Aptitude Preparation Course\n"
     ]
    }
   ],
   "source": [
    "import requests\n",
    "response = requests.get('https://codingninjas.in/api/v3/courses')\n",
    "\n",
    "py_data = response.json()\n",
    "\n",
    "# print(type(py_data))\n",
    "for i in py_data['data']['courses']:\n",
    "    print(i['name'])"
   ]
  },
  {
   "cell_type": "markdown",
   "metadata": {},
   "source": [
    "### Title of course\n",
    "Print the title of course with id=19.<br>\n",
    "URL : http://api.codingninjas.com/api/v3/courses"
   ]
  },
  {
   "cell_type": "code",
   "execution_count": 31,
   "metadata": {},
   "outputs": [
    {
     "name": "stdout",
     "output_type": "stream",
     "text": [
      "Machine Learning\n"
     ]
    }
   ],
   "source": [
    "import requests\n",
    "response = requests.get('https://codingninjas.in/api/v3/courses')\n",
    "\n",
    "for i in py_data['data']['courses']:\n",
    "    if(i['id'] == 19):\n",
    "        print(i['title'])\n",
    "        break\n"
   ]
  },
  {
   "cell_type": "code",
   "execution_count": null,
   "metadata": {},
   "outputs": [],
   "source": []
  }
 ],
 "metadata": {
  "kernelspec": {
   "display_name": "Python 3.9.7 64-bit",
   "language": "python",
   "name": "python3"
  },
  "language_info": {
   "codemirror_mode": {
    "name": "ipython",
    "version": 3
   },
   "file_extension": ".py",
   "mimetype": "text/x-python",
   "name": "python",
   "nbconvert_exporter": "python",
   "pygments_lexer": "ipython3",
   "version": "3.9.7"
  },
  "orig_nbformat": 4,
  "vscode": {
   "interpreter": {
    "hash": "1dcbd63ddb16ee01f4e0d4df0c0a317dbdf9fb9c9d2bbe0b0e573dba2be163a3"
   }
  }
 },
 "nbformat": 4,
 "nbformat_minor": 2
}
