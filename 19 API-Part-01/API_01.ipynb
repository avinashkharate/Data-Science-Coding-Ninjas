{
 "cells": [
  {
   "cell_type": "code",
   "execution_count": 11,
   "metadata": {},
   "outputs": [
    {
     "name": "stdout",
     "output_type": "stream",
     "text": [
      "200\n",
      "utf-8\n",
      "https://codingninjas.in/api/v3/courses\n",
      "{'Date': 'Mon, 10 Oct 2022 13:05:00 GMT', 'Content-Type': 'application/json', 'Transfer-Encoding': 'chunked', 'Connection': 'keep-alive', 'Server': 'nginx', 'X-Frame-Options': 'SAMEORIGIN', 'X-XSS-Protection': '1; mode=block', 'X-Content-Type-Options': 'nosniff', 'Access-Control-Allow-Origin': '*', 'Access-Control-Allow-Methods': 'POST, GET, PATCH, PUT, DELETE, OPTIONS', 'Access-Control-Allow-Headers': 'Access-Control-Allow-Headers, Origin,Accept, X-Requested-With, Content-Type, Access-Control-Request-Method, Access-Control-Request-Headers, Authorization', 'Access-Control-Max-Age': '1728000', 'Vary': 'Accept-Encoding', 'Content-Encoding': 'gzip', 'ETag': 'W/\"6e269aa2d8dae9b04bf65d1bcae0f344\"', 'Cache-Control': 'max-age=0, private, must-revalidate', 'X-Request-Id': '0641c73e-13d8-417a-a4d7-f5e22e1c569d', 'X-Runtime': '0.008200', 'Strict-Transport-Security': 'max-age=31536000; includeSubDomains;'}\n",
      "Mon, 10 Oct 2022 13:05:00 GMT\n",
      "Mon, 10 Oct 2022 13:05:00 GMT\n",
      "application/json\n"
     ]
    }
   ],
   "source": [
    "import requests\n",
    "response = requests.get('https://codingninjas.in/api/v3/courses')\n",
    "print(response.status_code)\n",
    "print(response.encoding)\n",
    "print(response.url)\n",
    "print(response.headers)\n",
    "header_info = response.headers\n",
    "print(header_info['Date'])\n",
    "print(header_info['date'])\n",
    "print(header_info['content-type'])\n",
    "# print(response.text)\n"
   ]
  },
  {
   "cell_type": "code",
   "execution_count": 4,
   "metadata": {},
   "outputs": [
    {
     "name": "stdout",
     "output_type": "stream",
     "text": [
      "200\n"
     ]
    }
   ],
   "source": []
  },
  {
   "cell_type": "code",
   "execution_count": null,
   "metadata": {},
   "outputs": [],
   "source": []
  }
 ],
 "metadata": {
  "kernelspec": {
   "display_name": "Python 3.9.7 64-bit",
   "language": "python",
   "name": "python3"
  },
  "language_info": {
   "codemirror_mode": {
    "name": "ipython",
    "version": 3
   },
   "file_extension": ".py",
   "mimetype": "text/x-python",
   "name": "python",
   "nbconvert_exporter": "python",
   "pygments_lexer": "ipython3",
   "version": "3.9.7"
  },
  "orig_nbformat": 4,
  "vscode": {
   "interpreter": {
    "hash": "1dcbd63ddb16ee01f4e0d4df0c0a317dbdf9fb9c9d2bbe0b0e573dba2be163a3"
   }
  }
 },
 "nbformat": 4,
 "nbformat_minor": 2
}
