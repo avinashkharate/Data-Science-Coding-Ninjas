{
 "cells": [
  {
   "cell_type": "code",
   "execution_count": 1,
   "metadata": {},
   "outputs": [
    {
     "name": "stdout",
     "output_type": "stream",
     "text": [
      "200\n",
      "utf-8\n",
      "https://codingninjas.in/api/v3/courses\n",
      "{'Date': 'Mon, 10 Oct 2022 17:53:03 GMT', 'Content-Type': 'application/json', 'Transfer-Encoding': 'chunked', 'Connection': 'keep-alive', 'Server': 'nginx', 'X-Frame-Options': 'SAMEORIGIN', 'X-XSS-Protection': '1; mode=block', 'X-Content-Type-Options': 'nosniff', 'Access-Control-Allow-Origin': '*', 'Access-Control-Allow-Methods': 'POST, GET, PATCH, PUT, DELETE, OPTIONS', 'Access-Control-Allow-Headers': 'Access-Control-Allow-Headers, Origin,Accept, X-Requested-With, Content-Type, Access-Control-Request-Method, Access-Control-Request-Headers, Authorization', 'Access-Control-Max-Age': '1728000', 'Vary': 'Accept-Encoding', 'Content-Encoding': 'gzip', 'ETag': 'W/\"f6c92d7c7ee36838ef0b24f51e1f7ea3\"', 'Cache-Control': 'max-age=0, private, must-revalidate', 'X-Request-Id': '207014a6-5ee3-4ce6-a3db-66a9876ec084', 'X-Runtime': '0.061930', 'Strict-Transport-Security': 'max-age=31536000; includeSubDomains;'}\n",
      "Mon, 10 Oct 2022 17:53:03 GMT\n",
      "Mon, 10 Oct 2022 17:53:03 GMT\n",
      "application/json\n"
     ]
    }
   ],
   "source": [
    "import requests\n",
    "\n",
    "response = requests.get('https://codingninjas.in/api/v3/courses')\n",
    "\n",
    "print(response.status_code)\n",
    "print(response.encoding)\n",
    "print(response.url)\n",
    "print(response.headers)\n",
    "\n",
    "header_info = response.headers\n",
    "print(header_info['Date'])\n",
    "print(header_info['date'])\n",
    "print(header_info['content-type'])\n",
    "# print(response.text)\n"
   ]
  },
  {
   "cell_type": "code",
   "execution_count": 11,
   "metadata": {},
   "outputs": [
    {
     "name": "stdout",
     "output_type": "stream",
     "text": [
      "System Design Course\n",
      "Premium Web Dev Course\n",
      "Premium Competitive Course\n",
      "Machine Learning\n",
      "C++ & Data Structures\n",
      "Premium Data Science Course\n",
      "Data structures and Algorithms [C++/Java/Python]\n",
      "Premium Android Course\n",
      "Front End (React)\n",
      "Premium Machine Learning Course\n",
      "Competitive Programmer\n",
      "Java & Data Structures\n",
      "Web Dev (Full Stack)\n",
      "Android Developer\n",
      "Interview Preparation\n",
      "Grokking the Operating Systems Interview\n",
      "Data Science\n",
      "Python & Web Dev (MERN)\n",
      "C++ & Web Dev (Node.js)\n",
      "Competitive Programming\n",
      "Python & Data Structures\n",
      "Android (Kotlin)\n",
      "Data Scientist\n",
      "Machine Learning\n",
      "Aptitude Preparation\n"
     ]
    }
   ],
   "source": [
    "import json\n",
    "python_data = json.loads(response.text)\n",
    "# print(python_data)\n",
    "# print(type(python_data))\n",
    "\n",
    "all_courses = python_data['data']['courses']\n",
    "# print(all_courses)\n",
    "\n",
    "for i in all_courses:\n",
    "    print(i['title'])"
   ]
  },
  {
   "cell_type": "code",
   "execution_count": null,
   "metadata": {},
   "outputs": [],
   "source": []
  }
 ],
 "metadata": {
  "kernelspec": {
   "display_name": "Python 3.9.7 64-bit",
   "language": "python",
   "name": "python3"
  },
  "language_info": {
   "codemirror_mode": {
    "name": "ipython",
    "version": 3
   },
   "file_extension": ".py",
   "mimetype": "text/x-python",
   "name": "python",
   "nbconvert_exporter": "python",
   "pygments_lexer": "ipython3",
   "version": "3.9.7"
  },
  "orig_nbformat": 4,
  "vscode": {
   "interpreter": {
    "hash": "1dcbd63ddb16ee01f4e0d4df0c0a317dbdf9fb9c9d2bbe0b0e573dba2be163a3"
   }
  }
 },
 "nbformat": 4,
 "nbformat_minor": 2
}
