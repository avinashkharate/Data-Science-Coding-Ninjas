{
 "cells": [
  {
   "cell_type": "code",
   "execution_count": 4,
   "metadata": {},
   "outputs": [
    {
     "name": "stdout",
     "output_type": "stream",
     "text": [
      "200\n"
     ]
    }
   ],
   "source": [
    "import requests\n",
    "response = requests.get('https://api.openaq.org/v1/cities')\n",
    "\n",
    "print(response.status_code)"
   ]
  },
  {
   "cell_type": "code",
   "execution_count": 5,
   "metadata": {},
   "outputs": [
    {
     "name": "stdout",
     "output_type": "stream",
     "text": [
      "<bound method Response.json of <Response [200]>>\n"
     ]
    }
   ],
   "source": [
    "print(response.json)"
   ]
  },
  {
   "cell_type": "code",
   "execution_count": 17,
   "metadata": {},
   "outputs": [
    {
     "name": "stdout",
     "output_type": "stream",
     "text": [
      "{\"meta\":{\"name\":\"openaq-api\",\"license\":\"CC BY 4.0d\",\"website\":\"api.openaq.org\",\"page\":1,\"limit\":1,\"found\":200},\"results\":[{\"country\":\"IN\",\"name\":\"Agartala\",\"city\":\"Agartala\",\"count\":209181,\"locations\":4}]}\n",
      "<Response [200]>\n",
      "https://api.openaq.org/v1/cities?country=IN&limit=1\n"
     ]
    }
   ],
   "source": [
    "response = requests.get(\"https://api.openaq.org/v1/cities\",params={'country':'IN','limit':1})\n",
    "print(response.text)\n",
    "print(response)\n",
    "print(response.url)"
   ]
  },
  {
   "cell_type": "markdown",
   "metadata": {},
   "source": [
    "### Total number of cities\n",
    "Count the total number of cities of country AU from this URL : https://api.openaq.org/docs#/v2/citiesgetv2citiesget\n"
   ]
  },
  {
   "cell_type": "code",
   "execution_count": 25,
   "metadata": {},
   "outputs": [
    {
     "name": "stdout",
     "output_type": "stream",
     "text": [
      "2\n"
     ]
    }
   ],
   "source": [
    "response = requests.get(\"https://api.openaq.org/v2/cities\",params={'country':'AU'})\n",
    "data = response.json()\n",
    "\n",
    "print(len(data))"
   ]
  },
  {
   "cell_type": "markdown",
   "metadata": {},
   "source": [
    "### Cities from BE\n",
    "Print first 5 cities from country “BE”. Fetch the result from given URL.<br>\n",
    "Order the results by city.<br>\n",
    "URL - https://api.openaq.org/v1/cities<br>\n",
    "Documentation - https://docs.openaq.org/"
   ]
  },
  {
   "cell_type": "code",
   "execution_count": 32,
   "metadata": {},
   "outputs": [
    {
     "name": "stdout",
     "output_type": "stream",
     "text": [
      "Antwerpen\n",
      "Brabant wallon\n",
      "Brussels-Capital Region\n",
      "Flanders\n",
      "Hainaut\n"
     ]
    }
   ],
   "source": [
    "response = requests.get(\"https://api.openaq.org/v2/cities\",params={'country':'BE','limit':5})\n",
    "data = response.json()\n",
    "\n",
    "for i in data['results']:\n",
    "    print(i['city'])"
   ]
  },
  {
   "cell_type": "code",
   "execution_count": null,
   "metadata": {},
   "outputs": [],
   "source": []
  }
 ],
 "metadata": {
  "kernelspec": {
   "display_name": "Python 3.9.7 64-bit",
   "language": "python",
   "name": "python3"
  },
  "language_info": {
   "codemirror_mode": {
    "name": "ipython",
    "version": 3
   },
   "file_extension": ".py",
   "mimetype": "text/x-python",
   "name": "python",
   "nbconvert_exporter": "python",
   "pygments_lexer": "ipython3",
   "version": "3.9.7"
  },
  "orig_nbformat": 4,
  "vscode": {
   "interpreter": {
    "hash": "1dcbd63ddb16ee01f4e0d4df0c0a317dbdf9fb9c9d2bbe0b0e573dba2be163a3"
   }
  }
 },
 "nbformat": 4,
 "nbformat_minor": 2
}
