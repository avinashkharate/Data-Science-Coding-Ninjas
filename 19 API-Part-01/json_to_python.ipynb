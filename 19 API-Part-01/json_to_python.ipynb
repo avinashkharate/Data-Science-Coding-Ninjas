{
 "cells": [
  {
   "cell_type": "code",
   "execution_count": 1,
   "metadata": {},
   "outputs": [
    {
     "name": "stdout",
     "output_type": "stream",
     "text": [
      "200\n",
      "utf-8\n",
      "https://codingninjas.in/api/v3/courses\n",
      "{'Date': 'Mon, 10 Oct 2022 17:33:24 GMT', 'Content-Type': 'application/json', 'Transfer-Encoding': 'chunked', 'Connection': 'keep-alive', 'Server': 'nginx', 'X-Frame-Options': 'SAMEORIGIN', 'X-XSS-Protection': '1; mode=block', 'X-Content-Type-Options': 'nosniff', 'Access-Control-Allow-Origin': '*', 'Access-Control-Allow-Methods': 'POST, GET, PATCH, PUT, DELETE, OPTIONS', 'Access-Control-Allow-Headers': 'Access-Control-Allow-Headers, Origin,Accept, X-Requested-With, Content-Type, Access-Control-Request-Method, Access-Control-Request-Headers, Authorization', 'Access-Control-Max-Age': '1728000', 'Vary': 'Accept-Encoding', 'Content-Encoding': 'gzip', 'ETag': 'W/\"0d8ad331bffd9c2f380a4a2bdcd1a059\"', 'Cache-Control': 'max-age=0, private, must-revalidate', 'X-Request-Id': '4dfe504b-711a-4c4e-95ec-288860a2b0f3', 'X-Runtime': '0.009563', 'Strict-Transport-Security': 'max-age=31536000; includeSubDomains;'}\n",
      "Mon, 10 Oct 2022 17:33:24 GMT\n",
      "Mon, 10 Oct 2022 17:33:24 GMT\n",
      "application/json\n"
     ]
    }
   ],
   "source": [
    "import requests\n",
    "response = requests.get('https://codingninjas.in/api/v3/courses')\n",
    "print(response.status_code)\n",
    "print(response.encoding)\n",
    "print(response.url)\n",
    "print(response.headers)\n",
    "header_info = response.headers\n",
    "print(header_info['Date'])\n",
    "print(header_info['date'])\n",
    "print(header_info['content-type'])\n",
    "# print(response.text)\n"
   ]
  },
  {
   "cell_type": "code",
   "execution_count": 4,
   "metadata": {},
   "outputs": [
    {
     "name": "stdout",
     "output_type": "stream",
     "text": [
      "<class 'dict'>\n",
      "{'Student': 'Aviansh'}\n",
      "Aviansh\n"
     ]
    }
   ],
   "source": [
    "import json\n",
    "json_data = '{\"Student\" : \"Aviansh\" }'\n",
    "python_data  = json.loads(json_data)\n",
    "\n",
    "print(type(python_data))\n",
    "print(python_data)\n",
    "print(python_data['Student'])\n"
   ]
  },
  {
   "cell_type": "code",
   "execution_count": 8,
   "metadata": {},
   "outputs": [
    {
     "name": "stdout",
     "output_type": "stream",
     "text": [
      "<class 'dict'>\n",
      "{'roll_number': 101}\n",
      "<class 'int'>\n",
      "101\n"
     ]
    }
   ],
   "source": [
    "json_data ='{\"roll_number\":101}'\n",
    "python_data = json.loads(json_data)\n",
    "\n",
    "print(type(python_data))\n",
    "print(python_data)\n",
    "\n",
    "print(type(python_data['roll_number']))\n",
    "print(python_data['roll_number'])"
   ]
  },
  {
   "cell_type": "code",
   "execution_count": 9,
   "metadata": {},
   "outputs": [
    {
     "name": "stdout",
     "output_type": "stream",
     "text": [
      "<class 'dict'>\n",
      "{'roll_number': None}\n",
      "<class 'NoneType'>\n",
      "None\n"
     ]
    }
   ],
   "source": [
    "json_data ='{\"roll_number\":null}'\n",
    "python_data = json.loads(json_data)\n",
    "\n",
    "print(type(python_data))\n",
    "print(python_data)\n",
    "\n",
    "print(type(python_data['roll_number']))\n",
    "print(python_data['roll_number'])"
   ]
  },
  {
   "cell_type": "code",
   "execution_count": 15,
   "metadata": {},
   "outputs": [
    {
     "name": "stdout",
     "output_type": "stream",
     "text": [
      "<class 'dict'>\n",
      "{'Student': {'Name': 'Avinash', 'roll_number': 101}}\n",
      "<class 'dict'>\n",
      "Avinash\n",
      "101\n"
     ]
    }
   ],
   "source": [
    "json_data ='{\"Student\":{\"Name\":\"Avinash\",\"roll_number\":101}}'\n",
    "python_data = json.loads(json_data)\n",
    "\n",
    "print(type(python_data))\n",
    "print(python_data)\n",
    "\n",
    "student_datails = python_data['Student']\n",
    "print(type(student_datails))\n",
    "\n",
    "print(student_datails['Name'])\n",
    "print(student_datails['roll_number'])"
   ]
  },
  {
   "cell_type": "code",
   "execution_count": 20,
   "metadata": {},
   "outputs": [
    {
     "name": "stdout",
     "output_type": "stream",
     "text": [
      "<class 'dict'>\n",
      "{'Fruits': ['Apple', 'Orange', 'Mango', 'Guava']}\n",
      "<class 'list'>\n",
      "['Apple', 'Orange', 'Mango', 'Guava']\n"
     ]
    }
   ],
   "source": [
    "json_data = '{\"Fruits\" : [\"Apple\",\"Orange\",\"Mango\",\"Guava\"]}'\n",
    "python_data = json.loads(json_data)\n",
    "\n",
    "print(type(python_data))\n",
    "print(python_data)\n",
    "\n",
    "python_fruits = python_data[\"Fruits\"]\n",
    "\n",
    "print(type(python_fruits))\n",
    "print(python_fruits)\n"
   ]
  },
  {
   "cell_type": "code",
   "execution_count": null,
   "metadata": {},
   "outputs": [],
   "source": []
  }
 ],
 "metadata": {
  "kernelspec": {
   "display_name": "Python 3.9.7 64-bit",
   "language": "python",
   "name": "python3"
  },
  "language_info": {
   "codemirror_mode": {
    "name": "ipython",
    "version": 3
   },
   "file_extension": ".py",
   "mimetype": "text/x-python",
   "name": "python",
   "nbconvert_exporter": "python",
   "pygments_lexer": "ipython3",
   "version": "3.9.7"
  },
  "orig_nbformat": 4,
  "vscode": {
   "interpreter": {
    "hash": "1dcbd63ddb16ee01f4e0d4df0c0a317dbdf9fb9c9d2bbe0b0e573dba2be163a3"
   }
  }
 },
 "nbformat": 4,
 "nbformat_minor": 2
}
