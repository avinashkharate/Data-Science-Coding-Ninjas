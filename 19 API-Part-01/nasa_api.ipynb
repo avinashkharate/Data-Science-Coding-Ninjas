{
 "cells": [
  {
   "cell_type": "code",
   "execution_count": 4,
   "metadata": {},
   "outputs": [
    {
     "name": "stdout",
     "output_type": "stream",
     "text": [
      "200\n",
      "https://api.nasa.gov/planetary/apod?api_key=DEMO_KEY\n"
     ]
    }
   ],
   "source": [
    "import requests\n",
    "response = requests.get('https://api.nasa.gov/planetary/apod',params={'api_key':'DEMO_KEY'})\n",
    "\n",
    "print(response.status_code)\n",
    "print(response.url)"
   ]
  },
  {
   "cell_type": "code",
   "execution_count": null,
   "metadata": {},
   "outputs": [],
   "source": []
  }
 ],
 "metadata": {
  "kernelspec": {
   "display_name": "Python 3.9.7 64-bit",
   "language": "python",
   "name": "python3"
  },
  "language_info": {
   "codemirror_mode": {
    "name": "ipython",
    "version": 3
   },
   "file_extension": ".py",
   "mimetype": "text/x-python",
   "name": "python",
   "nbconvert_exporter": "python",
   "pygments_lexer": "ipython3",
   "version": "3.9.7"
  },
  "orig_nbformat": 4,
  "vscode": {
   "interpreter": {
    "hash": "1dcbd63ddb16ee01f4e0d4df0c0a317dbdf9fb9c9d2bbe0b0e573dba2be163a3"
   }
  }
 },
 "nbformat": 4,
 "nbformat_minor": 2
}
